{
  "nbformat": 4,
  "nbformat_minor": 0,
  "metadata": {
    "colab": {
      "provenance": [],
      "authorship_tag": "ABX9TyNBxfkgHjzoJmrGAZDBa6sA",
      "include_colab_link": true
    },
    "kernelspec": {
      "name": "python3",
      "display_name": "Python 3"
    },
    "language_info": {
      "name": "python"
    }
  },
  "cells": [
    {
      "cell_type": "markdown",
      "metadata": {
        "id": "view-in-github",
        "colab_type": "text"
      },
      "source": [
        "<a href=\"https://colab.research.google.com/github/chatbot-1/iris-flower/blob/main/Untitled1.ipynb\" target=\"_parent\"><img src=\"https://colab.research.google.com/assets/colab-badge.svg\" alt=\"Open In Colab\"/></a>"
      ]
    },
    {
      "cell_type": "code",
      "execution_count": null,
      "metadata": {
        "id": "XLftpoH9EupS"
      },
      "outputs": [],
      "source": [
        "import numpy as np\n",
        "import matplotlib.pyplot as plt\n",
        "import seaborn as sns\n",
        "import pandas as pd\n",
        "%matplotlib inline\n",
        "\n",
        "data = [\"sepal length\", \"sepal width\", \"petal length\", \"petal width\", \"Variety\"]\n",
        "df = pd.read_csv(\"iris.csv\", names=data)\n",
        "df.head()\n",
        "\n",
        "df.describe()\n",
        "\n",
        "# sns.set()\n",
        "\n",
        "df = sns.load_dataset('iris')\n",
        "\n",
        "# sns.pairplot(df, hue='species')\n",
        "\n",
        "mainData = df.values\n",
        "X = mainData[:,0:4]\n",
        "Y = mainData[:,4]\n",
        "print(X)"
      ]
    },
    {
      "cell_type": "code",
      "source": [
        "from tables.tests.common import test_filename\n",
        "from sklearn.model_selection import train_test_split\n",
        "X_train, X_test, y_train, y_test = train_test_split(X, Y, test_size=0.2)\n",
        "print(X_train)"
      ],
      "metadata": {
        "id": "ljH9qsmBPNat"
      },
      "execution_count": null,
      "outputs": []
    },
    {
      "cell_type": "code",
      "source": [
        "from sklearn.svm import SVC\n",
        "model_svc = SVC()\n",
        "model_svc.fit(X_train, y_train)"
      ],
      "metadata": {
        "id": "a2pvivhePwaL"
      },
      "execution_count": null,
      "outputs": []
    },
    {
      "cell_type": "code",
      "source": [
        "prediction1 = model_svc.predict(X_test)\n",
        "from sklearn.metrics import accuracy_score\n",
        "print(accuracy_score(y_test, prediction1)*100)\n",
        "for i in range(len(prediction1)):\n",
        "  print(y_test[i],prediction1[i])"
      ],
      "metadata": {
        "id": "a0N03H3QQvcg"
      },
      "execution_count": null,
      "outputs": []
    },
    {
      "cell_type": "code",
      "source": [
        "from sklearn.linear_model import LogisticRegression\n",
        "model_LR=LogisticRegression()\n",
        "model_LR.fit(X_train, y_train)"
      ],
      "metadata": {
        "id": "73MtXXiXRLNa"
      },
      "execution_count": null,
      "outputs": []
    },
    {
      "cell_type": "code",
      "source": [
        "prediction2 = model_LR.predict(X_test)\n",
        "from sklearn.metrics import accuracy_score\n",
        "print(accuracy_score(y_test, prediction2)*100)\n",
        "for i in range(len(prediction1)):\n",
        "  print(X_test[i],prediction1[i])"
      ],
      "metadata": {
        "colab": {
          "base_uri": "https://localhost:8080/"
        },
        "id": "OOg_Y7nwRj7g",
        "outputId": "f3748222-b69c-4587-bccb-c5fa8dae18fa"
      },
      "execution_count": 49,
      "outputs": [
        {
          "output_type": "stream",
          "name": "stdout",
          "text": [
            "96.66666666666667\n",
            "[5.8 2.6 4.0 1.2] versicolor\n",
            "[6.3 3.3 4.7 1.6] versicolor\n",
            "[5.2 2.7 3.9 1.4] versicolor\n",
            "[4.9 3.1 1.5 0.1] setosa\n",
            "[5.0 3.5 1.3 0.3] setosa\n",
            "[5.5 2.5 4.0 1.3] versicolor\n",
            "[7.3 2.9 6.3 1.8] virginica\n",
            "[7.2 3.6 6.1 2.5] virginica\n",
            "[6.3 3.3 6.0 2.5] virginica\n",
            "[6.5 3.0 5.5 1.8] virginica\n",
            "[4.9 3.1 1.5 0.2] setosa\n",
            "[6.2 2.2 4.5 1.5] versicolor\n",
            "[6.4 3.2 5.3 2.3] virginica\n",
            "[6.7 2.5 5.8 1.8] virginica\n",
            "[7.9 3.8 6.4 2.0] virginica\n",
            "[4.8 3.1 1.6 0.2] setosa\n",
            "[5.4 3.7 1.5 0.2] setosa\n",
            "[6.4 2.8 5.6 2.1] virginica\n",
            "[6.9 3.1 5.1 2.3] virginica\n",
            "[6.3 2.3 4.4 1.3] versicolor\n",
            "[5.5 3.5 1.3 0.2] setosa\n",
            "[5.7 2.9 4.2 1.3] versicolor\n",
            "[6.7 3.0 5.0 1.7] virginica\n",
            "[6.8 3.2 5.9 2.3] virginica\n",
            "[5.8 2.7 5.1 1.9] virginica\n",
            "[6.6 3.0 4.4 1.4] versicolor\n",
            "[4.9 3.6 1.4 0.1] setosa\n",
            "[6.8 2.8 4.8 1.4] versicolor\n",
            "[4.9 3.0 1.4 0.2] setosa\n",
            "[6.1 2.8 4.7 1.2] versicolor\n"
          ]
        }
      ]
    },
    {
      "cell_type": "code",
      "source": [],
      "metadata": {
        "id": "sbJAB4YnShvU"
      },
      "execution_count": null,
      "outputs": []
    }
  ]
}